{
  "nbformat": 4,
  "nbformat_minor": 0,
  "metadata": {
    "colab": {
      "provenance": []
    },
    "kernelspec": {
      "name": "python3",
      "display_name": "Python 3"
    },
    "language_info": {
      "name": "python"
    }
  },
  "cells": [
    {
      "cell_type": "markdown",
      "source": [
        "Step 1: Data Collection and Storage"
      ],
      "metadata": {
        "id": "YaxNbmgNyRTq"
      }
    },
    {
      "cell_type": "code",
      "execution_count": null,
      "metadata": {
        "colab": {
          "base_uri": "https://localhost:8080/"
        },
        "id": "Au-C_P92yLFL",
        "outputId": "4d016764-c189-4127-e5fc-4f456f1b85aa"
      },
      "outputs": [
        {
          "output_type": "stream",
          "name": "stdout",
          "text": [
            "  show_id     type                  title         director  \\\n",
            "0      s1    Movie   Dick Johnson Is Dead  Kirsten Johnson   \n",
            "1      s2  TV Show          Blood & Water              NaN   \n",
            "2      s3  TV Show              Ganglands  Julien Leclercq   \n",
            "3      s4  TV Show  Jailbirds New Orleans              NaN   \n",
            "4      s5  TV Show           Kota Factory              NaN   \n",
            "\n",
            "                                                cast        country  \\\n",
            "0                                                NaN  United States   \n",
            "1  Ama Qamata, Khosi Ngema, Gail Mabalane, Thaban...   South Africa   \n",
            "2  Sami Bouajila, Tracy Gotoas, Samuel Jouy, Nabi...            NaN   \n",
            "3                                                NaN            NaN   \n",
            "4  Mayur More, Jitendra Kumar, Ranjan Raj, Alam K...          India   \n",
            "\n",
            "           date_added  release_year rating   duration  ... Unnamed: 16  \\\n",
            "0  September 25, 2021          2020  PG-13     90 min  ...         NaN   \n",
            "1  September 24, 2021          2021  TV-MA  2 Seasons  ...         NaN   \n",
            "2  September 24, 2021          2021  TV-MA   1 Season  ...         NaN   \n",
            "3  September 24, 2021          2021  TV-MA   1 Season  ...         NaN   \n",
            "4  September 24, 2021          2021  TV-MA  2 Seasons  ...         NaN   \n",
            "\n",
            "  Unnamed: 17  Unnamed: 18  Unnamed: 19  Unnamed: 20  Unnamed: 21  \\\n",
            "0         NaN          NaN          NaN          NaN          NaN   \n",
            "1         NaN          NaN          NaN          NaN          NaN   \n",
            "2         NaN          NaN          NaN          NaN          NaN   \n",
            "3         NaN          NaN          NaN          NaN          NaN   \n",
            "4         NaN          NaN          NaN          NaN          NaN   \n",
            "\n",
            "   Unnamed: 22  Unnamed: 23  Unnamed: 24  Unnamed: 25  \n",
            "0          NaN          NaN          NaN          NaN  \n",
            "1          NaN          NaN          NaN          NaN  \n",
            "2          NaN          NaN          NaN          NaN  \n",
            "3          NaN          NaN          NaN          NaN  \n",
            "4          NaN          NaN          NaN          NaN  \n",
            "\n",
            "[5 rows x 26 columns]\n"
          ]
        }
      ],
      "source": [
        "import pandas as pd\n",
        "\n",
        "# Load the Netflix dataset\n",
        "netflix_data = pd.read_csv('netflix_titles.csv', encoding='latin1')\n",
        "# Display the first few rows to understand the structure\n",
        "print(netflix_data.head())\n",
        "\n",
        "# Keep relevant columns for recommendation (e.g., title, genre, description)\n",
        "netflix_data = netflix_data[['title', 'listed_in', 'description']]\n",
        "\n",
        "# Check for missing values and clean if necessary\n",
        "netflix_data.dropna(subset=['description', 'listed_in'], inplace=True)\n"
      ]
    },
    {
      "cell_type": "markdown",
      "source": [
        "Step 2: Recommendation Algorithms"
      ],
      "metadata": {
        "id": "cN8jyYpiyQQL"
      }
    },
    {
      "cell_type": "markdown",
      "source": [
        "Content Based Filtering"
      ],
      "metadata": {
        "id": "C4zAbg9A2Fcf"
      }
    },
    {
      "cell_type": "code",
      "source": [
        "from sklearn.feature_extraction.text import TfidfVectorizer\n",
        "from sklearn.metrics.pairwise import cosine_similarity\n",
        "\n",
        "# Combine genres and descriptions for content similarity\n",
        "netflix_data['combined_features'] = netflix_data['listed_in'] + \" \" + netflix_data['description']\n",
        "\n",
        "# Apply TF-IDF to convert text to numerical features\n",
        "tfidf = TfidfVectorizer(stop_words='english')\n",
        "tfidf_matrix = tfidf.fit_transform(netflix_data['combined_features'])\n",
        "\n",
        "# Calculate cosine similarity between items\n",
        "cosine_sim = cosine_similarity(tfidf_matrix, tfidf_matrix)\n",
        "\n",
        "# Function to get recommendations based on content similarity\n",
        "def get_recommendations(title, cosine_sim=cosine_sim):\n",
        "    # Get the index of the movie that matches the title\n",
        "    idx = netflix_data[netflix_data['title'] == title].index[0]\n",
        "\n",
        "    # Get the pairwise similarity scores for all movies with that movie\n",
        "    sim_scores = list(enumerate(cosine_sim[idx]))\n",
        "\n",
        "    # Sort the movies based on similarity scores\n",
        "    sim_scores = sorted(sim_scores, key=lambda x: x[1], reverse=True)\n",
        "\n",
        "    # Get the indices of the top 10 most similar movies\n",
        "    sim_indices = [i[0] for i in sim_scores[1:11]]\n",
        "\n",
        "    # Return the top 10 most similar movies\n",
        "    return netflix_data['title'].iloc[sim_indices]\n",
        "\n",
        "# Example: Get recommendations for a movie\n",
        "recommendations = get_recommendations('Breaking Bad')\n",
        "print(recommendations)"
      ],
      "metadata": {
        "colab": {
          "base_uri": "https://localhost:8080/"
        },
        "id": "5b8MHuqQyaBG",
        "outputId": "30bb1a61-79de-4aa5-a070-f6a0dbc0cc91"
      },
      "execution_count": null,
      "outputs": [
        {
          "output_type": "stream",
          "name": "stdout",
          "text": [
            "2606                              Extracurricular\n",
            "4118                                  Iron Ladies\n",
            "5352    Have You Ever Fallen in Love, Miss Jiang?\n",
            "4143                                       Sparta\n",
            "1559                    The Mess You Leave Behind\n",
            "3855                                   The Writer\n",
            "2643                                     Love 101\n",
            "517                             Good Morning Call\n",
            "1067                               The Underclass\n",
            "4664                             Age of Rebellion\n",
            "Name: title, dtype: object\n"
          ]
        }
      ]
    },
    {
      "cell_type": "markdown",
      "source": [
        "Collaborative Filtering"
      ],
      "metadata": {
        "id": "1lyTXzoI2S1A"
      }
    },
    {
      "cell_type": "code",
      "source": [
        "from surprise import Dataset, Reader, SVD\n",
        "from surprise.model_selection import train_test_split\n",
        "\n",
        "# Placeholder example for ratings data\n",
        "ratings_data = pd.DataFrame({\n",
        "    'user_id': [1, 2, 3, 1, 2],\n",
        "    'title': ['Breaking Bad', 'Stranger Things', 'Narcos', 'Black Mirror', 'Narcos'],\n",
        "    'rating': [5, 4, 4, 3, 5]\n",
        "})\n",
        "\n",
        "# Merge ratings with the Netflix titles\n",
        "merged_data = pd.merge(ratings_data, netflix_data[['title']], on='title')\n",
        "\n",
        "# Load data into Surprise format\n",
        "reader = Reader(rating_scale=(1, 5))\n",
        "data = Dataset.load_from_df(merged_data[['user_id', 'title', 'rating']], reader)\n",
        "\n",
        "# Train/test split\n",
        "trainset, testset = train_test_split(data, test_size=0.25)\n",
        "\n",
        "# Use SVD (or any other algorithm from Surprise)\n",
        "algo = SVD()\n",
        "algo.fit(trainset)\n",
        "\n",
        "# Function to recommend movies to a user based on collaborative filtering\n",
        "def get_collaborative_recommendations(user_id, num_recommendations=5):\n",
        "    # Get all the titles from the original dataset\n",
        "    all_titles = netflix_data['title'].unique()\n",
        "\n",
        "    # Get the list of titles the user has already rated\n",
        "    rated_titles = merged_data[merged_data['user_id'] == user_id]['title'].unique()\n",
        "\n",
        "    # Find titles the user has not rated yet\n",
        "    unrated_titles = [title for title in all_titles if title not in rated_titles]\n",
        "\n",
        "    # Predict ratings for the unrated titles\n",
        "    predictions = []\n",
        "    for title in unrated_titles:\n",
        "        prediction = algo.predict(user_id, title)\n",
        "        predictions.append((title, prediction.est))  # est is the estimated rating\n",
        "\n",
        "    # Sort by predicted ratings in descending order\n",
        "    predictions.sort(key=lambda x: x[1], reverse=True)\n",
        "\n",
        "    # Return the top 'num_recommendations' titles\n",
        "    top_recommendations = [title for title, _ in predictions[:num_recommendations]]\n",
        "    return top_recommendations\n",
        "\n",
        "# Example: Get recommendations for user 1\n",
        "user_recommendations = get_collaborative_recommendations(user_id=1)\n",
        "print(\"Collaborative Filtering Recommendations for User 1:\")\n",
        "print(user_recommendations)"
      ],
      "metadata": {
        "colab": {
          "base_uri": "https://localhost:8080/"
        },
        "id": "rB7t6R3p29HA",
        "outputId": "81a55b3a-2941-44e0-e6d0-e538c19e96a0"
      },
      "execution_count": null,
      "outputs": [
        {
          "output_type": "stream",
          "name": "stdout",
          "text": [
            "Collaborative Filtering Recommendations for User 1:\n",
            "['Narcos', 'Dick Johnson Is Dead', 'Blood & Water', 'Ganglands', 'Jailbirds New Orleans']\n"
          ]
        }
      ]
    },
    {
      "cell_type": "markdown",
      "source": [
        "Hybrid Filtering (Combination of Content based filtering and Collaborative filtering)"
      ],
      "metadata": {
        "id": "9sw6BagI44-R"
      }
    },
    {
      "cell_type": "code",
      "source": [
        "def hybrid_recommendation(user_id, title, num_recommendations=5, alpha=0.5):\n",
        "    # Collaborative filtering recommendations (based on user preferences)\n",
        "    collab_recs = get_collaborative_recommendations(user_id, num_recommendations)\n",
        "\n",
        "    # Content-based recommendations (based on movie similarities)\n",
        "    #content_recs = get_content_based_recommendations(title, num_recommendations)\n",
        "    content_recs = get_recommendations(title) # Removed num_recommendations argument\n",
        "\n",
        "    # Combine the two sets of recommendations (weighted sum)\n",
        "    hybrid_recs = set(collab_recs).union(set(content_recs))  # Union to combine both\n",
        "\n",
        "    return list(hybrid_recs)[:num_recommendations]\n",
        "\n",
        "# Example: Get hybrid recommendations for user 1 and 'Stranger Things'\n",
        "print(\"Hybrid Recommendations for User 1 and 'Stranger Things':\")\n",
        "print(hybrid_recommendation(user_id=1, title='Stranger Things'))"
      ],
      "metadata": {
        "colab": {
          "base_uri": "https://localhost:8080/"
        },
        "id": "VLFNMj-Z35nG",
        "outputId": "ea386bad-4089-4e7a-fe3d-d8239eb2c538"
      },
      "execution_count": null,
      "outputs": [
        {
          "output_type": "stream",
          "name": "stdout",
          "text": [
            "Hybrid Recommendations for User 1 and 'Stranger Things':\n",
            "['Narcos', 'Freaks', 'Manifest', 'Ganglands', 'Dick Johnson Is Dead']\n"
          ]
        }
      ]
    },
    {
      "cell_type": "markdown",
      "source": [
        "Step 3 Model Evaluation"
      ],
      "metadata": {
        "id": "LZdHWza_5Sbu"
      }
    },
    {
      "cell_type": "code",
      "source": [
        "from surprise.accuracy import mae\n",
        "\n",
        "# Calculate RMSE and MAE for the predictions\n",
        "rmse(predictions)\n",
        "mae(predictions)"
      ],
      "metadata": {
        "colab": {
          "base_uri": "https://localhost:8080/"
        },
        "id": "UHkA1A5c5Y_Z",
        "outputId": "25fd1c2b-2841-4ac6-e97e-6f8aaa9bfa1c"
      },
      "execution_count": null,
      "outputs": [
        {
          "output_type": "stream",
          "name": "stdout",
          "text": [
            "RMSE: 0.3994\n",
            "MAE:  0.3994\n"
          ]
        },
        {
          "output_type": "execute_result",
          "data": {
            "text/plain": [
              "0.39943282854131024"
            ]
          },
          "metadata": {},
          "execution_count": 29
        }
      ]
    },
    {
      "cell_type": "markdown",
      "source": [
        "Step 4: Real-time Recommendations (Flask API)"
      ],
      "metadata": {
        "id": "d92rWtQ_7O4Q"
      }
    },
    {
      "cell_type": "code",
      "source": [
        "from flask import Flask, request, jsonify\n",
        "\n",
        "app = Flask(__name__)\n",
        "\n",
        "@app.route('/recommend', methods=['POST'])\n",
        "def recommend():\n",
        "    title = request.json['title']\n",
        "    recommendations = get_recommendations(title)\n",
        "    return jsonify({'recommended_titles': recommendations.tolist()})\n",
        "\n",
        "if __name__ == '__main__':\n",
        "    app.run(debug=True)\n"
      ],
      "metadata": {
        "colab": {
          "base_uri": "https://localhost:8080/"
        },
        "id": "Q2qcP0nP7NzS",
        "outputId": "78eb0a4f-0503-4fef-f484-06770db5aca5"
      },
      "execution_count": null,
      "outputs": [
        {
          "output_type": "stream",
          "name": "stdout",
          "text": [
            " * Serving Flask app '__main__'\n",
            " * Debug mode: on\n"
          ]
        },
        {
          "output_type": "stream",
          "name": "stderr",
          "text": [
            "INFO:werkzeug:\u001b[31m\u001b[1mWARNING: This is a development server. Do not use it in a production deployment. Use a production WSGI server instead.\u001b[0m\n",
            " * Running on http://127.0.0.1:5000\n",
            "INFO:werkzeug:\u001b[33mPress CTRL+C to quit\u001b[0m\n",
            "INFO:werkzeug: * Restarting with stat\n"
          ]
        }
      ]
    },
    {
      "cell_type": "markdown",
      "source": [
        "Step 5: Scalability and Performance"
      ],
      "metadata": {
        "id": "XBrP6y207NeE"
      }
    },
    {
      "cell_type": "code",
      "source": [
        "import sqlite3\n",
        "\n",
        "# Connect to an SQLite database for long-term storage\n",
        "conn = sqlite3.connect('netflix_recommendation.db')\n",
        "\n",
        "# Store Netflix data\n",
        "netflix_data.to_sql('netflix_titles', conn, if_exists='replace', index=False)\n",
        "\n",
        "# Example: Query titles from the database\n",
        "query = \"SELECT title FROM netflix_titles WHERE listed_in LIKE '%Action%'\"\n",
        "action_titles = pd.read_sql(query, conn)\n",
        "print(action_titles)\n"
      ],
      "metadata": {
        "colab": {
          "base_uri": "https://localhost:8080/"
        },
        "id": "B6-FAllc-vI2",
        "outputId": "5008ed67-a861-4d08-a135-5281287bd85e"
      },
      "execution_count": null,
      "outputs": [
        {
          "output_type": "stream",
          "name": "stdout",
          "text": [
            "                              title\n",
            "0                         Ganglands\n",
            "1                  Bangkok Breaking\n",
            "2                            Jaguar\n",
            "3            Resurrection: Ertugrul\n",
            "4                    The Stronghold\n",
            "...                             ...\n",
            "1023        XXX: State of the Union\n",
            "1024          Yamla Pagla Deewana 2\n",
            "1025  You Don't Mess with the Zohan\n",
            "1026                    Young Tiger\n",
            "1027             Parasyte: The Grey\n",
            "\n",
            "[1028 rows x 1 columns]\n"
          ]
        }
      ]
    },
    {
      "cell_type": "markdown",
      "source": [
        "Step 6: Security and Privacy"
      ],
      "metadata": {
        "id": "WnoXxwnY-90h"
      }
    },
    {
      "cell_type": "code",
      "source": [
        "from cryptography.fernet import Fernet\n",
        "\n",
        "# Generate encryption key\n",
        "key = Fernet.generate_key()\n",
        "cipher_suite = Fernet(key)\n",
        "\n",
        "# Example: Encrypt and decrypt sensitive data\n",
        "encrypted_data = cipher_suite.encrypt(b\"Sensitive User Data\")\n",
        "decrypted_data = cipher_suite.decrypt(encrypted_data)\n",
        "\n",
        "print(decrypted_data)\n"
      ],
      "metadata": {
        "colab": {
          "base_uri": "https://localhost:8080/"
        },
        "id": "X1COL8nk_Awc",
        "outputId": "ba65b539-583d-4a7b-c161-97c5bc80f906"
      },
      "execution_count": null,
      "outputs": [
        {
          "output_type": "stream",
          "name": "stdout",
          "text": [
            "b'Sensitive User Data'\n"
          ]
        }
      ]
    }
  ]
}